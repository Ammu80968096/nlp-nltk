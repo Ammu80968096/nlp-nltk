{
 "cells": [
  {
   "cell_type": "code",
   "execution_count": 199,
   "id": "609d9251-d6ea-4d0c-9957-924aea660e97",
   "metadata": {},
   "outputs": [],
   "source": [
    "import re\n",
    "import nltk\n",
    "from nltk.corpus import stopwords\n",
    "from nltk.tokenize import word_tokenize\n",
    "from nltk.stem import PorterStemmer, WordNetLemmatizer\n",
    "from nltk import pos_tag,ne_chunk"
   ]
  },
  {
   "cell_type": "code",
   "execution_count": 201,
   "id": "894cff78-ea1a-485e-8f1f-918d04c0dfd7",
   "metadata": {},
   "outputs": [
    {
     "name": "stderr",
     "output_type": "stream",
     "text": [
      "[nltk_data] Downloading package punkt to\n",
      "[nltk_data]     C:\\Users\\nirma\\AppData\\Roaming\\nltk_data...\n",
      "[nltk_data]   Package punkt is already up-to-date!\n",
      "[nltk_data] Downloading package stopwords to\n",
      "[nltk_data]     C:\\Users\\nirma\\AppData\\Roaming\\nltk_data...\n",
      "[nltk_data]   Package stopwords is already up-to-date!\n",
      "[nltk_data] Error loading averaged-perceptron_tagger: Package\n",
      "[nltk_data]     'averaged-perceptron_tagger' not found in index\n",
      "[nltk_data] Downloading package wordnet to\n",
      "[nltk_data]     C:\\Users\\nirma\\AppData\\Roaming\\nltk_data...\n",
      "[nltk_data]   Package wordnet is already up-to-date!\n",
      "[nltk_data] Downloading package maxent_ne_chunker to\n",
      "[nltk_data]     C:\\Users\\nirma\\AppData\\Roaming\\nltk_data...\n",
      "[nltk_data]   Package maxent_ne_chunker is already up-to-date!\n",
      "[nltk_data] Downloading package words to\n",
      "[nltk_data]     C:\\Users\\nirma\\AppData\\Roaming\\nltk_data...\n",
      "[nltk_data]   Package words is already up-to-date!\n"
     ]
    },
    {
     "data": {
      "text/plain": [
       "True"
      ]
     },
     "execution_count": 201,
     "metadata": {},
     "output_type": "execute_result"
    }
   ],
   "source": [
    "nltk.download('punkt')\n",
    "nltk.download('stopwords')\n",
    "nltk.download('averaged-perceptron_tagger')\n",
    "nltk.download('wordnet')\n",
    "nltk.download('maxent_ne_chunker')\n",
    "nltk.download('words')"
   ]
  },
  {
   "cell_type": "code",
   "execution_count": 203,
   "id": "ae431c37-0d9a-4e7e-bdfd-d3120e0d25e9",
   "metadata": {},
   "outputs": [
    {
     "data": {
      "text/plain": [
       "'final'"
      ]
     },
     "execution_count": 203,
     "metadata": {},
     "output_type": "execute_result"
    }
   ],
   "source": [
    "stemmer=PorterStemmer()\n",
    "stemmer.stem(\"finally\")"
   ]
  },
  {
   "cell_type": "code",
   "execution_count": 205,
   "id": "f37dfd2d-c817-471c-8e75-2c9a5fcd5f4f",
   "metadata": {},
   "outputs": [
    {
     "data": {
      "text/plain": [
       "'finally'"
      ]
     },
     "execution_count": 205,
     "metadata": {},
     "output_type": "execute_result"
    }
   ],
   "source": [
    "lemmatizer=WordNetLemmatizer()\n",
    "lemmatizer.lemmatize(\"finally\")"
   ]
  },
  {
   "cell_type": "code",
   "execution_count": 207,
   "id": "04e93933-480e-4bd4-a3bb-06bfa3854347",
   "metadata": {},
   "outputs": [],
   "source": [
    "text=\"FOOD IS GOOD\""
   ]
  },
  {
   "cell_type": "code",
   "execution_count": 209,
   "id": "8232eb1e-55bb-45f6-8785-51e414247b60",
   "metadata": {},
   "outputs": [],
   "source": [
    "def lowercase_text(text):\n",
    "    return text.lower()"
   ]
  },
  {
   "cell_type": "code",
   "execution_count": 211,
   "id": "06ce1015-e3e3-412d-a27f-dd2f21c503a8",
   "metadata": {},
   "outputs": [],
   "source": [
    "def remove_punctuation(text):\n",
    "    return re.sub(r'[^\\w\\s]','',text)"
   ]
  },
  {
   "cell_type": "code",
   "execution_count": 213,
   "id": "73f601c3-3f18-4edc-b0e0-9f463f17313c",
   "metadata": {},
   "outputs": [],
   "source": [
    "def tokenize_text(text):\n",
    "    return word_tokenize(text)"
   ]
  },
  {
   "cell_type": "code",
   "execution_count": 215,
   "id": "93224bd1-df3e-4198-8dd0-14e281b4eef2",
   "metadata": {},
   "outputs": [],
   "source": [
    "def remove_stopwords(tokens):\n",
    "    stop_words = set(stopwords.words('english'))\n",
    "    return[word for word in tokens if word not in stop_words]\n",
    "                "
   ]
  },
  {
   "cell_type": "code",
   "execution_count": 217,
   "id": "6056253f-9f33-42e4-88a8-dcb186294df2",
   "metadata": {},
   "outputs": [],
   "source": [
    "def stem_words(tokens):\n",
    "    stemmer = PorterStemmer()\n",
    "    return[stemmer.stem(word) for word in tokens]"
   ]
  },
  {
   "cell_type": "code",
   "execution_count": 219,
   "id": "ce7b3711-8cf1-4a5d-83b2-86c7367bf077",
   "metadata": {},
   "outputs": [],
   "source": [
    "def lemmatize_words(tokens):\n",
    "    lemmatizer = WordNetLemmatizer()\n",
    "    return [lemmatizer.lemmatize(word) for word in tokens]"
   ]
  },
  {
   "cell_type": "code",
   "execution_count": 221,
   "id": "0eba5ec1-8ff9-44ef-80ba-9a88393d980f",
   "metadata": {},
   "outputs": [
    {
     "data": {
      "text/plain": [
       "'for word in tokens:\\nif word not in stop_words:\\nprint(word)'"
      ]
     },
     "execution_count": 221,
     "metadata": {},
     "output_type": "execute_result"
    }
   ],
   "source": [
    "\"\"\"for word in tokens:\n",
    "if word not in stop_words:\n",
    "print(word)\"\"\""
   ]
  },
  {
   "cell_type": "code",
   "execution_count": 227,
   "id": "e020bb07-be76-4cce-b9b6-38396ac5219c",
   "metadata": {},
   "outputs": [],
   "source": [
    "def pos_tagging(tokens):\n",
    "    return pos_tag(tokens)\n",
    "    "
   ]
  },
  {
   "cell_type": "code",
   "execution_count": 229,
   "id": "6419de16-4e3c-4db3-bee2-22c0d4007bbc",
   "metadata": {},
   "outputs": [],
   "source": [
    "def named_entity_recognition(text):\n",
    "    tokens = tokenize_text(text)\n",
    "    pos_tags = pos_tagging(tokens)\n",
    "    return ne_chunk(pos_tags)"
   ]
  },
  {
   "cell_type": "code",
   "execution_count": 233,
   "id": "b98dc8c0-f54e-406c-80ff-3e87565043e7",
   "metadata": {},
   "outputs": [],
   "source": [
    "text_lower = lowercase_text(text)\n",
    "text_clean = remove_punctuation(text_lower)\n",
    "tokens = tokenize_text(text_clean)\n",
    "tokens_no_stopwords = remove_stopwords(tokens)\n",
    "tokens_stemmed = stem_words(tokens_no_stopwords)\n",
    "tokens_lemmatized = lemmatize_words(tokens_no_stopwords)\n",
    "pos_tags = pos_tagging(tokens_no_stopwords)\n",
    "named_entities = named_entity_recognition(text)"
   ]
  },
  {
   "cell_type": "code",
   "execution_count": 231,
   "id": "5ff34e7a-0a81-445f-9237-5755966976aa",
   "metadata": {},
   "outputs": [
    {
     "name": "stderr",
     "output_type": "stream",
     "text": [
      "[nltk_data] Downloading package averaged_perceptron_tagger to\n",
      "[nltk_data]     C:\\Users\\nirma\\AppData\\Roaming\\nltk_data...\n",
      "[nltk_data]   Unzipping taggers\\averaged_perceptron_tagger.zip.\n"
     ]
    },
    {
     "data": {
      "text/plain": [
       "True"
      ]
     },
     "execution_count": 231,
     "metadata": {},
     "output_type": "execute_result"
    }
   ],
   "source": [
    "nltk.download('averaged_perceptron_tagger')"
   ]
  },
  {
   "cell_type": "code",
   "execution_count": 235,
   "id": "1ed1a917-a39a-40df-a8f4-9b1283617336",
   "metadata": {},
   "outputs": [
    {
     "name": "stdout",
     "output_type": "stream",
     "text": [
      "Lowercased Text: food is good\n",
      "Cleaned Text: food is good\n",
      "Tokens: ['food', 'is', 'good']\n",
      "Tokens without Stopwords: ['food', 'good']\n"
     ]
    }
   ],
   "source": [
    "#finally results\n",
    "print(\"Lowercased Text:\",text_lower)\n",
    "print(\"Cleaned Text:\",text_clean)\n",
    "print(\"Tokens:\",tokens)\n",
    "print(\"Tokens without Stopwords:\",tokens_no_stopwords)\n",
    "print(\"Stemmed Tokens:\",tokens_stemmed)\n",
    "print(\"Lemmatized Tokens:\",tokens_lemmatized)\n",
    "print(\"part-of-speech Tags:\",pos_tags)\n",
    "print(\"Named Entities:\""
   ]
  },
  {
   "cell_type": "code",
   "execution_count": null,
   "id": "97aed03c-9691-4979-bdc6-b65a08b7785d",
   "metadata": {},
   "outputs": [],
   "source": [
    "|"
   ]
  }
 ],
 "metadata": {
  "kernelspec": {
   "display_name": "Python 3 (ipykernel)",
   "language": "python",
   "name": "python3"
  },
  "language_info": {
   "codemirror_mode": {
    "name": "ipython",
    "version": 3
   },
   "file_extension": ".py",
   "mimetype": "text/x-python",
   "name": "python",
   "nbconvert_exporter": "python",
   "pygments_lexer": "ipython3",
   "version": "3.12.4"
  }
 },
 "nbformat": 4,
 "nbformat_minor": 5
}
